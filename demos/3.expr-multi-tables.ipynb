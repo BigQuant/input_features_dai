{
 "cells": [
  {
   "attachments": {},
   "cell_type": "markdown",
   "metadata": {},
   "source": [
    "## 使用多个表\n",
    "\n",
    "- 这种方式更加简单，可以支持常用的数据查询、计算等操作\n",
    "- 使用 表达式 输入特征\n",
    "    - 输入模式选择 表达式\n",
    "    - 在 表达式特征 输入框里输入公式，每行一个公式，用到的字段 表名.字段名 来引用，表名是可选的，可选的表名需要在默认数据表填写，对于多个表里同名的字段，需要显式指定表名。这里用到了 cn_stock_bar1d 和 cn_stock_valuation\n",
    "    - 默认数据表: 可选的表名需要在默认数据表填写。这里留空就可以\n",
    "    - 移除空值：是否移除有空值的行\n",
    "- DAI 文档: https://bigquant.com/wiki/doc/dai-PLSbc1SbZX\n",
    "- 数据字典: https://bigquant.com/data/home"
   ]
  },
  {
   "cell_type": "code",
   "execution_count": 1,
   "metadata": {},
   "outputs": [
    {
     "name": "stdout",
     "output_type": "stream",
     "text": [
      "[2024-04-24 12:52:40] [info     ] input_features_dai.v15 开始运行..\n",
      "[2024-04-24 12:52:42] [info     ] expr mode\n",
      "[2024-04-24 12:52:42] [info     ] input_features_dai.v15 运行完成[1.87s].\n",
      "[2024-04-24 12:52:42] [info     ] extract_data_dai.v13 开始运行..\n",
      "[2024-04-24 12:52:43] [info     ] data extracted: (295781, 4)\n",
      "[2024-04-24 12:52:44] [info     ] extract_data_dai.v13 运行完成[1.55s].\n"
     ]
    }
   ],
   "source": [
    "from bigmodule import M\n",
    "\n",
    "# <aistudiograph>\n",
    "\n",
    "# @module(position=\"104,247\", comment='', comment_collapsed=True)\n",
    "m1 = M.input_features_dai.v15(\n",
    "    mode='表达式',\n",
    "    expr=\"\"\"cn_stock_bar1d.close AS f1\n",
    "cn_stock_valuation.float_market_cap / cn_stock_bar1d.volume AS f2\"\"\",\n",
    "    expr_tables='',\n",
    "    expr_drop_na=True,\n",
    "    sql=''\n",
    ")\n",
    "\n",
    "# @module(position=\"201,365\", comment='', comment_collapsed=True)\n",
    "m2 = M.extract_data_dai.v13(\n",
    "    sql=m1.data,\n",
    "    start_date='2024-01-01',\n",
    "    start_date_bound_to_trading_date=False,\n",
    "    end_date='2024-03-31',\n",
    "    end_date_bound_to_trading_date=False,\n",
    "    before_start_days=90,\n",
    "    debug=False\n",
    ")\n",
    "# </aistudiograph>"
   ]
  }
 ],
 "metadata": {
  "kernelspec": {
   "display_name": "Python 3",
   "language": "python",
   "name": "python3"
  },
  "language_info": {
   "codemirror_mode": {
    "name": "ipython",
    "version": 3
   },
   "file_extension": ".py",
   "mimetype": "text/x-python",
   "name": "python",
   "nbconvert_exporter": "python",
   "pygments_lexer": "ipython3",
   "version": "3.11.8"
  },
  "orig_nbformat": 4
 },
 "nbformat": 4,
 "nbformat_minor": 2
}
