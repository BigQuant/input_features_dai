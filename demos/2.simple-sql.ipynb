{
 "cells": [
  {
   "attachments": {},
   "cell_type": "markdown",
   "metadata": {},
   "source": [
    "## SQL模式\n",
    "\n",
    "- 这种方式更加灵活，可以支持任何的数据操作\n",
    "- 使用 SQL 输入特征\n",
    "    - 输入模式选择 SQL\n",
    "    - 在 SQL特征 输入框里输入完整的SQL：可以在这里做 数据查询、计算、过滤、排序等所有数据操作。对于时间的过滤，建议放到 数据抽取 模块里，会有更好的性能(更高效的查询下推)，以及在回测和模拟等无缝的支持\n"
   ]
  },
  {
   "cell_type": "code",
   "execution_count": 1,
   "metadata": {},
   "outputs": [
    {
     "name": "stdout",
     "output_type": "stream",
     "text": [
      "[2024-04-24 11:08:47] [info     ] input_features_dai.v14 开始运行..\n",
      "[2024-04-24 11:08:49] [info     ] sql mode\n",
      "[2024-04-24 11:08:49] [info     ] input_features_dai.v14 运行完成[2.4s].\n",
      "[2024-04-24 11:08:49] [info     ] extract_data_dai.v13 开始运行..\n",
      "[2024-04-24 11:08:56] [info     ] data extracted: (310218, 3)\n",
      "[2024-04-24 11:08:57] [info     ] extract_data_dai.v13 运行完成[7.14s].\n"
     ]
    }
   ],
   "source": [
    "from bigmodule import M\n",
    "\n",
    "# <aistudiograph>\n",
    "\n",
    "# @module(position=\"104,251\", comment='', comment_collapsed=True)\n",
    "m1 = M.input_features_dai.v14(\n",
    "    mode='SQL',\n",
    "    expr='m_lag(volume, 1)',\n",
    "    expr_tables='cn_stock_factors',\n",
    "    expr_drop_na=True,\n",
    "    sql=\"\"\"SELECT\n",
    "\tvolume,\n",
    "    date,\n",
    "    instrument\n",
    "FROM cn_stock_bar1d\"\"\"\n",
    ")\n",
    "\n",
    "# @module(position=\"198,373\", comment='', comment_collapsed=True)\n",
    "m2 = M.extract_data_dai.v13(\n",
    "    sql=m1.data,\n",
    "    start_date='2024-01-01',\n",
    "    start_date_bound_to_trading_date=False,\n",
    "    end_date='2024-03-31',\n",
    "    end_date_bound_to_trading_date=False,\n",
    "    before_start_days=90,\n",
    "    debug=False\n",
    ")\n",
    "# </aistudiograph>"
   ]
  }
 ],
 "metadata": {
  "kernelspec": {
   "display_name": "Python 3",
   "language": "python",
   "name": "python3"
  },
  "language_info": {
   "codemirror_mode": {
    "name": "ipython",
    "version": 3
   },
   "file_extension": ".py",
   "mimetype": "text/x-python",
   "name": "python",
   "nbconvert_exporter": "python",
   "pygments_lexer": "ipython3",
   "version": "3.11.8"
  },
  "orig_nbformat": 4
 },
 "nbformat": 4,
 "nbformat_minor": 2
}
