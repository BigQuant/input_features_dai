{
 "cells": [
  {
   "attachments": {},
   "cell_type": "markdown",
   "metadata": {},
   "source": [
    "## 使用输入datasource\n",
    "\n",
    "- 输入1: m3 使用 DAI SQL\n",
    "- 输入2: m3 使用 DataSource\n",
    "- m1 的 表达式中通过 input_1 和 input_2 引用这两个输入\n",
    "    - 注意，对于 .* 来合并所有列是要去除 date, instrument\n",
    "- DAI 文档: https://bigquant.com/wiki/doc/dai-PLSbc1SbZX\n",
    "- 数据字典: https://bigquant.com/data/home"
   ]
  },
  {
   "cell_type": "code",
   "execution_count": 1,
   "metadata": {},
   "outputs": [
    {
     "name": "stdout",
     "output_type": "stream",
     "text": [
      "[2024-04-24 12:52:43] [info     ] input_features_dai.v15 开始运行..\n",
      "[2024-04-24 12:52:44] [info     ] input_features_dai.v15 命中缓存\n",
      "[2024-04-24 12:52:44] [info     ] input_features_dai.v15 运行完成[1.89s].\n",
      "[2024-04-24 12:52:45] [info     ] dai_datasource.v3 开始运行..\n",
      "[2024-04-24 12:52:45] [info     ] dai_datasource.v3 命中缓存\n",
      "[2024-04-24 12:52:45] [info     ] dai_datasource.v3 运行完成[0.177s].\n",
      "[2024-04-24 12:52:45] [info     ] input_features_dai.v15 开始运行..\n",
      "[2024-04-24 12:52:45] [info     ] expr mode\n",
      "[2024-04-24 12:52:45] [info     ] input_features_dai.v15 运行完成[0.46s].\n",
      "[2024-04-24 12:52:45] [info     ] extract_data_dai.v13 开始运行..\n",
      "[2024-04-24 12:52:47] [info     ] data extracted: (295781, 6)\n",
      "[2024-04-24 12:52:47] [info     ] extract_data_dai.v13 运行完成[2.05s].\n"
     ]
    }
   ],
   "source": [
    "from bigmodule import M\n",
    "\n",
    "# <aistudiograph>\n",
    "\n",
    "# @module(position=\"101,155\", comment='', comment_collapsed=True)\n",
    "m3 = M.input_features_dai.v15(\n",
    "    mode='表达式',\n",
    "    expr=\"\"\"cn_stock_bar1d.close AS f1\n",
    "cn_stock_valuation.float_market_cap / cn_stock_bar1d.volume AS f2\"\"\",\n",
    "    expr_tables='',\n",
    "    expr_drop_na=True,\n",
    "    sql=''\n",
    ")\n",
    "\n",
    "# @module(position=\"424,154\", comment='', comment_collapsed=True)\n",
    "m4 = M.dai_datasource.v3(\n",
    "    id='cn_stock_status'\n",
    ")\n",
    "\n",
    "# @module(position=\"226,261\", comment='', comment_collapsed=True)\n",
    "m1 = M.input_features_dai.v15(\n",
    "    input_1=m3.data,\n",
    "    input_2=m4.data,\n",
    "    mode='表达式',\n",
    "    expr=\"\"\"-- join输出 input_1 的除date, instrument的所有列，这两个列默认会加上\n",
    "-- 注意列名不要重复，不然会报错\n",
    "input_1.* EXCLUDE(date, instrument)\n",
    "input_2.st_status\n",
    "cn_stock_bar1d.open AS f3\"\"\",\n",
    "    expr_tables='',\n",
    "    expr_drop_na=True,\n",
    "    sql=''\n",
    ")\n",
    "\n",
    "# @module(position=\"244,375\", comment='', comment_collapsed=True)\n",
    "m2 = M.extract_data_dai.v13(\n",
    "    sql=m1.data,\n",
    "    start_date='2024-01-01',\n",
    "    start_date_bound_to_trading_date=False,\n",
    "    end_date='2024-03-31',\n",
    "    end_date_bound_to_trading_date=False,\n",
    "    before_start_days=90,\n",
    "    debug=False\n",
    ")\n",
    "# </aistudiograph>"
   ]
  },
  {
   "cell_type": "code",
   "execution_count": 6,
   "metadata": {},
   "outputs": [
    {
     "name": "stdout",
     "output_type": "stream",
     "text": [
      "CREATE TABLE _t_b4f4609c75ec4ac0a7c5664c6cb2194f AS SELECT\n",
      "    cn_stock_bar1d.close AS f1,\n",
      "    cn_stock_valuation.float_market_cap / cn_stock_bar1d.volume AS f2,\n",
      "    date,\n",
      "    instrument\n",
      "FROM cn_stock_bar1d\n",
      "    JOIN cn_stock_valuation USING(date, instrument)\n",
      "QUALIFY\n",
      "    COLUMNS(*) IS NOT NULL;\n",
      "\n",
      "SELECT\n",
      "    _t_b4f4609c75ec4ac0a7c5664c6cb2194f.* EXCLUDE(date, instrument),\n",
      "    cn_stock_status.st_status,\n",
      "    cn_stock_bar1d.open AS f3,\n",
      "    date,\n",
      "    instrument\n",
      "FROM cn_stock_bar1d\n",
      "    JOIN _t_b4f4609c75ec4ac0a7c5664c6cb2194f USING(date, instrument)\n",
      "    JOIN cn_stock_status USING(date, instrument)\n",
      "QUALIFY\n",
      "    COLUMNS(*) IS NOT NULL\n",
      "\n"
     ]
    }
   ],
   "source": [
    "print(m1.data.read()[\"sql\"])"
   ]
  },
  {
   "cell_type": "code",
   "execution_count": null,
   "metadata": {},
   "outputs": [],
   "source": []
  }
 ],
 "metadata": {
  "kernelspec": {
   "display_name": "Python 3",
   "language": "python",
   "name": "python3"
  },
  "language_info": {
   "codemirror_mode": {
    "name": "ipython",
    "version": 3
   },
   "file_extension": ".py",
   "mimetype": "text/x-python",
   "name": "python",
   "nbconvert_exporter": "python",
   "pygments_lexer": "ipython3",
   "version": "3.11.8"
  },
  "orig_nbformat": 4
 },
 "nbformat": 4,
 "nbformat_minor": 2
}
