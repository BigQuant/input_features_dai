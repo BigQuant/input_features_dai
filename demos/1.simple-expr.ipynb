{
 "cells": [
  {
   "attachments": {},
   "cell_type": "markdown",
   "metadata": {},
   "source": [
    "## 表达式模式\n",
    "\n",
    "- 这种方式更加简单，可以支持常用的数据查询、计算等操作\n",
    "- 使用 表达式 输入特征\n",
    "    - 输入模式选择 表达式\n",
    "    - 在 表达式特征 输入框里输入公式，每行一个公式，用到的字段 表名.字段名 来引用，表名是可选的，可选的表名需要在默认数据表填写，对于多个表里同名的字段，需要显式指定表名\n",
    "    - 默认数据表: 可选的表名需要在默认数据表填写\n",
    "    - 移除空值：是否移除有空值的行\n",
    "- DAI 文档: https://bigquant.com/wiki/doc/dai-PLSbc1SbZX\n",
    "- 数据字典: https://bigquant.com/data/home"
   ]
  },
  {
   "cell_type": "code",
   "execution_count": 1,
   "metadata": {},
   "outputs": [
    {
     "name": "stdout",
     "output_type": "stream",
     "text": [
      "[2024-04-24 20:20:30] [info     ] input_features_dai.v16 开始运行..\n",
      "[2024-04-24 20:20:32] [info     ] input_features_dai.v16 命中缓存\n",
      "[2024-04-24 20:20:32] [info     ] input_features_dai.v16 运行完成[1.75s].\n",
      "[2024-04-24 20:20:33] [info     ] extract_data_dai.v13 开始运行..\n",
      "[2024-04-24 20:20:33] [info     ] extract_data_dai.v13 命中缓存\n",
      "[2024-04-24 20:20:33] [info     ] extract_data_dai.v13 运行完成[0.209s].\n"
     ]
    }
   ],
   "source": [
    "from bigmodule import M\n",
    "\n",
    "# <aistudiograph>\n",
    "\n",
    "# @module(position=\"105,251\", comment='', comment_collapsed=True)\n",
    "m1 = M.input_features_dai.v16(\n",
    "    mode='表达式',\n",
    "    expr='m_lag(volume, 1)',\n",
    "    expr_tables='cn_stock_factors',\n",
    "    expr_drop_na=True,\n",
    "    sql='',\n",
    "    extract_data=False\n",
    ")\n",
    "\n",
    "# @module(position=\"198,373\", comment='', comment_collapsed=True)\n",
    "m2 = M.extract_data_dai.v13(\n",
    "    sql=m1.data,\n",
    "    start_date='2024-01-01',\n",
    "    start_date_bound_to_trading_date=False,\n",
    "    end_date='2024-03-31',\n",
    "    end_date_bound_to_trading_date=False,\n",
    "    before_start_days=90,\n",
    "    debug=False\n",
    ")\n",
    "# </aistudiograph>"
   ]
  },
  {
   "cell_type": "code",
   "execution_count": 6,
   "metadata": {},
   "outputs": [
    {
     "data": {
      "text/html": [
       "<style></style><div class=chart-container id=bigcharta36c1210a7374a48a7d3e0db825eb2bc style=width:100%><table class=\"display nowrap\"style=\"table-layout:auto; margin:auto; caption-side:bottom; width:100%\"data-quarto-disable-processing=true id=itables_4fc36f2a_3f47_4f91_84b6_8609221a16ed><thead><tr style=\"text-align: right;\"><th>m_lag(volume, 1)</th><th>date</th><th>instrument</th></tr></thead><tbody><tr><td>Loading... (need <a href=https://mwouts.github.io/itables/troubleshooting.html>help</a>?)</td></tr></tbody></table><link href=https://cdn.bigquant.com/s6/3rd/dt_for_itables/2.0.1/dt_bundle.css rel=stylesheet><script type=module>let c=`2024-01-02`;import{DataTable as a,jQuery as b}from\"https://cdn.bigquant.com/s6/3rd/dt_for_itables/2.0.1/dt_bundle.js\";document.querySelectorAll(`#itables_4fc36f2a_3f47_4f91_84b6_8609221a16ed:not(.dataTable)`).forEach(b=>{const d=[[85385279,c,`000001.SZ`],[61407778,c,`000002.SZ`],[3443600,c,`000004.SZ`],[11765600,c,`000005.SZ`],[22183898,c,`000006.SZ`],[729400,c,`000007.SZ`],[29055600,c,`000008.SZ`],[13068565,c,`000009.SZ`],[11980800,c,`000010.SZ`],[2878150,c,`000011.SZ`],[7495510,c,`000012.SZ`],[4684291,c,`000014.SZ`],[28390673,c,`000016.SZ`],[3919500,c,`000017.SZ`],[4172090,c,`000019.SZ`],[3534300,c,`000020.SZ`],[22903798,c,`000021.SZ`],[935400,c,`000023.SZ`],[2046000,c,`000025.SZ`],[5160300,c,`000026.SZ`],[71690040,c,`000027.SZ`],[2704630,c,`000028.SZ`],[2328300,c,`000029.SZ`],[12101680,c,`000030.SZ`],[20715696,c,`000031.SZ`],[37657738,c,`000032.SZ`],[18770075,c,`000034.SZ`],[27448280,c,`000035.SZ`],[12981521,c,`000036.SZ`],[4943200,c,`000037.SZ`],[11915252,c,`000039.SZ`],[10818097,c,`000040.SZ`],[5503100,c,`000042.SZ`],[8459400,c,`000045.SZ`],[0,c,`000046.SZ`],[3826497,c,`000048.SZ`],[5918419,c,`000049.SZ`],[16234546,c,`000050.SZ`],[6346350,c,`000055.SZ`],[60060700,c,`000056.SZ`],[9862300,c,`000058.SZ`],[10817290,c,`000059.SZ`],[44116692,c,`000060.SZ`],[5059391,c,`000061.SZ`],[2698038,c,`000062.SZ`],[80246966,c,`000063.SZ`],[10755297,c,`000065.SZ`],[29635901,c,`000066.SZ`],[5625153,c,`000068.SZ`],[42390921,c,`000069.SZ`],[11968368,c,`000070.SZ`],[36061998,c,`000078.SZ`],[8256462,c,`000088.SZ`],[8730097,c,`000089.SZ`],[34490581,c,`000090.SZ`],[5357901,c,`000096.SZ`],[42119660,c,`000099.SZ`],[421473028,c,`000100.SZ`],[10888073,c,`000151.SZ`],[4871200,c,`000153.SZ`],[30493884,c,`000155.SZ`],[11867400,c,`000156.SZ`],[23113166,c,`000157.SZ`],[86248022,c,`000158.SZ`],[7617600,c,`000159.SZ`],[50953137,c,`000166.SZ`],[29087969,c,`000301.SZ`],[25937253,c,`000333.SZ`],[39151598,c,`000338.SZ`],[8685893,c,`000400.SZ`],[7541821,c,`000401.SZ`],[13629171,c,`000402.SZ`],[8783150,c,`000403.SZ`],[7801000,c,`000404.SZ`],[6189000,c,`000407.SZ`],[7709803,c,`000408.SZ`],[58704491,c,`000409.SZ`],[3572633,c,`000410.SZ`],[4566882,c,`000411.SZ`],[107030915,c,`000413.SZ`],[30569400,c,`000415.SZ`],[7318400,c,`000416.SZ`],[11549177,c,`000417.SZ`],[9516189,c,`000419.SZ`],[15802554,c,`000420.SZ`],[35722486,c,`000421.SZ`],[39373834,c,`000422.SZ`],[3367387,c,`000423.SZ`],[62440098,c,`000425.SZ`],[20814996,c,`000426.SZ`],[10947200,c,`000428.SZ`],[6751628,c,`000429.SZ`],[4291900,c,`000430.SZ`],[6486200,c,`000488.SZ`],[2888700,c,`000498.SZ`],[4838755,c,`000501.SZ`],[22190358,c,`000503.SZ`],[3067300,c,`000504.SZ`],[2819976,c,`000505.SZ`],[21738400,c,`000506.SZ`]];let e={\"fnInfoCallback\":``,\"columnDefs\":[{\"className\":`dt-right`,\"targets\":`_all`}],\"buttons\":[{\"extend\":`csvHtml5`,\"text\":`\\u4e0b\\u8f7d`,\"title\":`csv`}],\"layout\":{\"topStart\":`pageLength`,\"topEnd\":`search`,\"bottomStart\":`buttons`,\"bottomEnd\":`paging`},\"language\":{\"url\":`https://cdn.bigquant.com/s6/3rd/datatables/plug-ins/2.0.3/i18n/zh.json`},\"order\":[],\"warn_on_dom\":!0};e[`data`]=d;new a(b,e)})</script></div>"
      ],
      "text/plain": [
       "<IPython.core.display.HTML object>"
      ]
     },
     "metadata": {},
     "output_type": "display_data"
    },
    {
     "data": {
      "text/plain": [
       "<bigcharts.v3.charts.Table at 0x7f2a16af3690>"
      ]
     },
     "execution_count": 6,
     "metadata": {},
     "output_type": "execute_result"
    }
   ],
   "source": [
    "import bigcharts\n",
    "\n",
    "bigcharts.Table(m2.data.read()[:100])"
   ]
  },
  {
   "cell_type": "code",
   "execution_count": 3,
   "metadata": {},
   "outputs": [
    {
     "data": {
      "text/plain": [
       "{'type': 'bdb',\n",
       " 'schema': {'m_lag(volume, 1)': 'int64',\n",
       "  'date': 'timestamp[ns]',\n",
       "  'instrument': 'string'},\n",
       " 'partitioning': [],\n",
       " 'indexes': [],\n",
       " 'unique_together': [],\n",
       " 'on_duplicates': 'last',\n",
       " 'preserve_pandas_index': False,\n",
       " 'sort_by': [],\n",
       " 'extra': '{\"start_date\": \"2024-01-01\", \"end_date\": \"2024-03-31\"}'}"
      ]
     },
     "execution_count": 3,
     "metadata": {},
     "output_type": "execute_result"
    }
   ],
   "source": [
    "m2.data.metadata"
   ]
  },
  {
   "cell_type": "code",
   "execution_count": null,
   "metadata": {},
   "outputs": [],
   "source": []
  }
 ],
 "metadata": {
  "kernelspec": {
   "display_name": "Python 3",
   "language": "python",
   "name": "python3"
  },
  "language_info": {
   "codemirror_mode": {
    "name": "ipython",
    "version": 3
   },
   "file_extension": ".py",
   "mimetype": "text/x-python",
   "name": "python",
   "nbconvert_exporter": "python",
   "pygments_lexer": "ipython3",
   "version": "3.11.8"
  },
  "orig_nbformat": 4
 },
 "nbformat": 4,
 "nbformat_minor": 2
}
