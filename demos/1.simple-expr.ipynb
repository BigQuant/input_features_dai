{
 "cells": [
  {
   "attachments": {},
   "cell_type": "markdown",
   "metadata": {},
   "source": [
    "## 表达式模式\n",
    "\n",
    "- 这种方式更加简单，可以支持常用的数据查询、计算等操作\n",
    "- 使用 表达式 输入特征\n",
    "    - 输入模式选择 表达式\n",
    "    - 在 表达式特征 输入框里输入公式，每行一个公式，用到的字段 表名.字段名 来引用，表名是可选的，可选的表名需要在默认数据表填写，对于多个表里同名的字段，需要显式指定表名\n",
    "    - 默认数据表: 可选的表名需要在默认数据表填写\n",
    "    - 移除空值：是否移除有空值的行\n"
   ]
  },
  {
   "cell_type": "code",
   "execution_count": 1,
   "metadata": {},
   "outputs": [
    {
     "name": "stdout",
     "output_type": "stream",
     "text": [
      "[2024-04-24 11:07:43] [info     ] input_features_dai.v14 开始运行..\n",
      "[2024-04-24 11:07:45] [info     ] expr mode\n",
      "[2024-04-24 11:07:45] [info     ] input_features_dai.v14 运行完成[1.97s].\n",
      "[2024-04-24 11:07:45] [info     ] extract_data_dai.v13 开始运行..\n",
      "[2024-04-24 11:07:49] [info     ] data extracted: (310188, 3)\n",
      "[2024-04-24 11:07:50] [info     ] extract_data_dai.v13 运行完成[4.93s].\n"
     ]
    }
   ],
   "source": [
    "from bigmodule import M\n",
    "\n",
    "# <aistudiograph>\n",
    "\n",
    "# @module(position=\"105,251\", comment='', comment_collapsed=True)\n",
    "m1 = M.input_features_dai.v14(\n",
    "    mode='表达式',\n",
    "    expr='m_lag(volume, 1)',\n",
    "    expr_tables='cn_stock_factors',\n",
    "    expr_drop_na=True,\n",
    "    sql=''\n",
    ")\n",
    "\n",
    "# @module(position=\"198,373\", comment='', comment_collapsed=True)\n",
    "m2 = M.extract_data_dai.v13(\n",
    "    sql=m1.data,\n",
    "    start_date='2024-01-01',\n",
    "    start_date_bound_to_trading_date=False,\n",
    "    end_date='2024-03-31',\n",
    "    end_date_bound_to_trading_date=False,\n",
    "    before_start_days=90,\n",
    "    debug=False\n",
    ")\n",
    "# </aistudiograph>"
   ]
  }
 ],
 "metadata": {
  "kernelspec": {
   "display_name": "Python 3",
   "language": "python",
   "name": "python3"
  },
  "language_info": {
   "codemirror_mode": {
    "name": "ipython",
    "version": 3
   },
   "file_extension": ".py",
   "mimetype": "text/x-python",
   "name": "python",
   "nbconvert_exporter": "python",
   "pygments_lexer": "ipython3",
   "version": "3.11.8"
  },
  "orig_nbformat": 4
 },
 "nbformat": 4,
 "nbformat_minor": 2
}
